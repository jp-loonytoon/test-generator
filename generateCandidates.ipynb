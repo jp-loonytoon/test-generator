{
 "cells": [
  {
   "cell_type": "markdown",
   "id": "35b0e51f",
   "metadata": {},
   "source": [
    "# Candidate Generator\n",
    "Creates a list of candidates. The file is saved to `data/candidates.csv`."
   ]
  },
  {
   "cell_type": "code",
   "execution_count": 1,
   "id": "89c83d07",
   "metadata": {},
   "outputs": [],
   "source": [
    "import re\n",
    "import random\n",
    "\n",
    "UCID_PREFIX = 'DT'\n",
    "PADDING_LEN = 4\n",
    "\n",
    "CEFR_LIST = ['A1.0', 'A1.1', 'A1.2', 'A2.0', 'A2.1', 'A2.2', 'B1.0', 'B1.1', 'B1.2', 'B2.0', 'B2.1', 'B2.2', 'C1.0']\n",
    "\n",
    "def getRandomCEFR() -> str:\n",
    "    return random.choice(CEFR_LIST)\n",
    "    \n",
    "\n",
    "def incrementCandidate(ucid: str = None) -> str:\n",
    "    '''\n",
    "    Returns the next candidate ID.\n",
    "\n",
    "    Parameters:\n",
    "        ucid (str): a unique candidate ID of the form `DT0001`\n",
    "\n",
    "    Returns:\n",
    "        nextUcid (str): a unique candidate ID of the form `DT0001`\n",
    "    '''\n",
    "    if ucid is None:\n",
    "        return UCID_PREFIX + '0001'\n",
    "    \n",
    "    m = re.search(r'\\d+', ucid)\n",
    "    if m is None:\n",
    "        raise Exception(\n",
    "            \"Unique candidate identifer (ucid) must contain a number\")\n",
    "\n",
    "    id = int(m.group(0))\n",
    "    if (id >= 0):\n",
    "        id = id + 1\n",
    "    else:\n",
    "        raise Exception(\"\"\"Unique candidate identifier (ucid) must be a number greater than\n",
    "                        or equal to 0\"\"\")\n",
    "\n",
    "    nextUcid = UCID_PREFIX + str(id).zfill(PADDING_LEN)\n",
    "    return nextUcid\n"
   ]
  },
  {
   "cell_type": "markdown",
   "id": "7c48ac61",
   "metadata": {},
   "source": [
    "## Create the Randomised Set\n",
    "First we create the randomised set of candidates (as a list of tuples). We decided to split the list into thirds, with $\\theta$ values of -1.5, 0.0, 1.5. Estimated CEFRs are chosen at random."
   ]
  },
  {
   "cell_type": "code",
   "execution_count": 2,
   "id": "29aed937",
   "metadata": {},
   "outputs": [],
   "source": [
    "# generate a list for tuples containing the candidate info:\n",
    "# (ucid, theta, estimated_cefr)\n",
    "# ('DT0001', -1.5, 'A1.1')\n",
    "#\n",
    "\n",
    "MAX_CANDIDATES = 400\n",
    "START_ID = 'DT0000'\n",
    "\n",
    "candidates = []\n",
    "ucid = START_ID\n",
    "for c in range(1, MAX_CANDIDATES+1):\n",
    "    ucid = incrementCandidate(ucid)\n",
    "    if c < (MAX_CANDIDATES * 0.3):\n",
    "        theta = -1.5\n",
    "    elif c > (MAX_CANDIDATES * 0.6):\n",
    "        theta = 1.5\n",
    "    else:\n",
    "        theta = 0.0\n",
    "    estimated_cefr = getRandomCEFR()\n",
    "    rand_cand = (ucid, theta, estimated_cefr)\n",
    "    candidates.append(rand_cand)"
   ]
  },
  {
   "cell_type": "markdown",
   "id": "7ac5018e",
   "metadata": {},
   "source": [
    "## Write to File\n",
    "Finally we write out to the CSV data file."
   ]
  },
  {
   "cell_type": "code",
   "execution_count": 3,
   "id": "1295f8f7",
   "metadata": {},
   "outputs": [],
   "source": [
    "import csv\n",
    "\n",
    "with open('data/candidates.csv', 'w', newline='') as csvfile:\n",
    "    candidate_writer = csv.writer(csvfile)\n",
    "    candidate_writer.writerow(('UCID', 'Theta', 'SeflRatedAbility'))\n",
    "    for c in candidates:\n",
    "        candidate_writer.writerow(c)\n",
    "    "
   ]
  },
  {
   "cell_type": "code",
   "execution_count": 4,
   "id": "e3674e2b",
   "metadata": {},
   "outputs": [
    {
     "name": "stdout",
     "output_type": "stream",
     "text": [
      "UCID,Theta,SeflRatedAbility\r",
      "\r\n",
      "DT0001,-1.5,C1.0\r",
      "\r\n",
      "DT0002,-1.5,C1.0\r",
      "\r\n",
      "DT0003,-1.5,A2.1\r",
      "\r\n",
      "DT0004,-1.5,B2.2\r",
      "\r\n",
      "DT0005,-1.5,B1.1\r",
      "\r\n",
      "DT0006,-1.5,B1.0\r",
      "\r\n",
      "DT0007,-1.5,B1.1\r",
      "\r\n",
      "DT0008,-1.5,C1.0\r",
      "\r\n",
      "DT0009,-1.5,A1.0\r",
      "\r\n"
     ]
    }
   ],
   "source": [
    "!head data/candidates2.csv"
   ]
  }
 ],
 "metadata": {
  "kernelspec": {
   "display_name": "Python 3",
   "language": "python",
   "name": "python3"
  },
  "language_info": {
   "codemirror_mode": {
    "name": "ipython",
    "version": 3
   },
   "file_extension": ".py",
   "mimetype": "text/x-python",
   "name": "python",
   "nbconvert_exporter": "python",
   "pygments_lexer": "ipython3",
   "version": "3.8.11"
  }
 },
 "nbformat": 4,
 "nbformat_minor": 5
}
