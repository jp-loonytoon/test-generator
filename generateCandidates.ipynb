{
 "cells": [
  {
   "cell_type": "markdown",
   "id": "35b0e51f",
   "metadata": {},
   "source": [
    "# Candidate Generator\n",
    "Creates a list of candidates. The file is saved to `data/candidates.csv`."
   ]
  },
  {
   "cell_type": "code",
   "execution_count": 1,
   "id": "89c83d07",
   "metadata": {},
   "outputs": [],
   "source": [
    "import re\n",
    "from numpy.random import default_rng\n",
    "\n",
    "MAX_CANDIDATES = 400\n",
    "UCID_PREFIX = 'DT'\n",
    "START_ID = UCID_PREFIX + '0000'\n",
    "PADDING_LEN = 4\n",
    "\n",
    "# CEFR: (theta, probability)\n",
    "THETA_DIST_L = {\n",
    "    \"Smattering\": (-6.49, 0.02),\n",
    "    \"Pre-A1\": (-5.39, 0.02),\n",
    "    \"A1\": (-4.29, 0.06),\n",
    "    \"A2\": (-3.23, 0.06),\n",
    "    \"A2+\": (-2.21, 0.17),\n",
    "    \"B1\": (-1.23, 0.17),\n",
    "    \"B1+\": (-0.26, 0.17),\n",
    "    \"B2\": (0.72, 0.17),\n",
    "    \"B2+\": (1.74, 0.06),\n",
    "    \"C1\": (2.80, 0.06),\n",
    "    \"C2\": (3.90, 0.02),\n",
    "    \"Mastery\": (5.10, 0.02)\n",
    "}\n",
    "\n",
    "# create a distribution of theta abilities for all the candidates\n",
    "distr = list(THETA_DIST_L.values())\n",
    "flat_distr = [item for j in [[i[0]] * int(i[1]*100) for i in distr] for item in j]\n",
    "rng = default_rng()\n",
    "theta_idx = rng.integers(100, size=MAX_CANDIDATES)\n",
    "\n",
    "\n",
    "def getRandomTheta(c: int) -> float:\n",
    "    '''\n",
    "    Returns a previously generated theta value from the flat_distr list\n",
    "    \n",
    "    Parameters:\n",
    "        c (int): the candidate index (0..MAX_CANDIDATES)\n",
    "\n",
    "    Returns:\n",
    "        cefr (str): the corresponding CEFR looked up from THETA_DIST_L\n",
    "    '''\n",
    "    return flat_distr[theta_idx[c]]\n",
    "\n",
    "\n",
    "def getCEFR(theta: float) -> str:\n",
    "    '''\n",
    "    Given a theta (ability), perform a lookup to get the corresponding\n",
    "    CEFR value\n",
    "\n",
    "    Parameters:\n",
    "        theta (float): the candidate's ability\n",
    "\n",
    "    Returns:\n",
    "        cefr (str): the corresponding CEFR looked up from THETA_DIST_L\n",
    "    '''\n",
    "    cefr = {k:v for k,v in THETA_DIST_L.items() if v[0] == theta}\n",
    "    cefrValue = list(cefr.keys())\n",
    "    if len(cefrValue) == 1:\n",
    "        return(cefrValue[0])\n",
    "    else:\n",
    "        return None\n",
    "    \n",
    "\n",
    "def incrementCandidate(ucid: str = None) -> str:\n",
    "    '''\n",
    "    Returns the next candidate ID.\n",
    "\n",
    "    Parameters:\n",
    "        ucid (str): a unique candidate ID of the form `DT0001`\n",
    "\n",
    "    Returns:\n",
    "        nextUcid (str): a unique candidate ID of the form `DT0001`\n",
    "    '''\n",
    "    if ucid is None:\n",
    "        return UCID_PREFIX + '0001'\n",
    "    \n",
    "    m = re.search(r'\\d+', ucid)\n",
    "    if m is None:\n",
    "        raise Exception(\n",
    "            \"Unique candidate identifer (ucid) must contain a number\")\n",
    "\n",
    "    id = int(m.group(0))\n",
    "    if (id >= 0):\n",
    "        id = id + 1\n",
    "    else:\n",
    "        raise Exception(\"\"\"Unique candidate identifier (ucid) must be a number greater than\n",
    "                        or equal to 0\"\"\")\n",
    "\n",
    "    nextUcid = UCID_PREFIX + str(id).zfill(PADDING_LEN)\n",
    "    return nextUcid\n"
   ]
  },
  {
   "cell_type": "markdown",
   "id": "7c48ac61",
   "metadata": {},
   "source": [
    "## Create the Randomised Set\n",
    "First we create the randomised set of candidates (as a list of tuples), with $\\theta$ values taken from the distribution in `THETA_DIST_L`."
   ]
  },
  {
   "cell_type": "code",
   "execution_count": 2,
   "id": "29aed937",
   "metadata": {},
   "outputs": [],
   "source": [
    "# generate a list for tuples containing the candidate info:\n",
    "# (ucid, theta, estimated_cefr)\n",
    "# ('DT0001', -1.5, 'A1.1')\n",
    "#\n",
    "\n",
    "candidates = []\n",
    "ucid = START_ID\n",
    "for c in range(0, MAX_CANDIDATES):\n",
    "    ucid = incrementCandidate(ucid)\n",
    "    theta = getRandomTheta(c)\n",
    "    estimated_cefr = getCEFR(theta)\n",
    "    rand_cand = (ucid, theta, estimated_cefr)\n",
    "    candidates.append(rand_cand)"
   ]
  },
  {
   "cell_type": "markdown",
   "id": "7ac5018e",
   "metadata": {},
   "source": [
    "## Write to File\n",
    "Finally we write out to the CSV data file."
   ]
  },
  {
   "cell_type": "code",
   "execution_count": 3,
   "id": "1295f8f7",
   "metadata": {},
   "outputs": [],
   "source": [
    "import csv\n",
    "\n",
    "with open('data/candhttp://localhost:8888/notebooks/generateCandidates.ipynb#idates.csv', 'w', newline='') as csvfile:\n",
    "    candidate_writer = csv.writer(csvfile)\n",
    "    candidate_writer.writerow(('UCID', 'Theta', 'CEFR'))\n",
    "    for c in candidates:\n",
    "        candidate_writer.writerow(c)"
   ]
  },
  {
   "cell_type": "code",
   "execution_count": 4,
   "id": "e3674e2b",
   "metadata": {},
   "outputs": [
    {
     "name": "stdout",
     "output_type": "stream",
     "text": [
      "UCID,Theta,CEFR\r",
      "\r\n",
      "DT0001,-3.23,A2\r",
      "\r\n",
      "DT0002,-0.26,B1+\r",
      "\r\n",
      "DT0003,1.74,B2+\r",
      "\r\n",
      "DT0004,0.72,B2\r",
      "\r\n",
      "DT0005,-1.23,B1\r",
      "\r\n",
      "DT0006,-2.21,A2+\r",
      "\r\n",
      "DT0007,-1.23,B1\r",
      "\r\n",
      "DT0008,0.72,B2\r",
      "\r\n",
      "DT0009,0.72,B2\r",
      "\r\n"
     ]
    }
   ],
   "source": [
    "!head data/candidates.csv"
   ]
  },
  {
   "cell_type": "markdown",
   "id": "edf64566",
   "metadata": {},
   "source": [
    "## Distribution\n",
    "We can create a distribution map from the list of candidates to show their abilities:"
   ]
  },
  {
   "cell_type": "code",
   "execution_count": 6,
   "id": "698cd854",
   "metadata": {},
   "outputs": [
    {
     "data": {
      "text/plain": [
       "<seaborn.axisgrid.FacetGrid at 0x10543dee0>"
      ]
     },
     "execution_count": 6,
     "metadata": {},
     "output_type": "execute_result"
    },
    {
     "data": {
      "image/png": "[encoded data removed]",
      "text/plain": [
       "<Figure size 360x360 with 1 Axes>"
      ]
     },
     "metadata": {},
     "output_type": "display_data"
    }
   ],
   "source": [
    "import seaborn as sns\n",
    "import pandas\n",
    "\n",
    "# Apply the default theme\n",
    "sns.set_theme()\n",
    "\n",
    "candidates = pandas.read_csv('data/candidates.csv')\n",
    "sns.displot(candidates, x=\"Theta\")"
   ]
  },
  {
   "cell_type": "code",
   "execution_count": null,
   "id": "cd82fe48",
   "metadata": {},
   "outputs": [],
   "source": []
  }
 ],
 "metadata": {
  "kernelspec": {
   "display_name": "Python 3",
   "language": "python",
   "name": "python3"
  },
  "language_info": {
   "codemirror_mode": {
    "name": "ipython",
    "version": 3
   },
   "file_extension": ".py",
   "mimetype": "text/x-python",
   "name": "python",
   "nbconvert_exporter": "python",
   "pygments_lexer": "ipython3",
   "version": "3.9.2"
  }
 },
 "nbformat": 4,
 "nbformat_minor": 5
}
