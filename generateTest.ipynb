{
 "cells": [
  {
   "cell_type": "markdown",
   "id": "a9a97d12",
   "metadata": {},
   "source": [
    "# Test Generator\n",
    "\n",
    "Read in the candidates and item data and generate a randomised test from them.\n",
    "\n",
    "We assume that the 1PL model is used.\n",
    "\n",
    "$$\n",
    "Pr(X=1) = \\frac{exp(\\theta-b)}{1 + exp(\\theta-b)}\n",
    "$$"
   ]
  },
  {
   "cell_type": "markdown",
   "id": "d83a810e",
   "metadata": {},
   "source": [
    "## Data Ingest\n",
    "\n",
    "There are two files in the `data` folder that we need: `items.csv` and `candidates.csv`. From these we generate a randomised test."
   ]
  },
  {
   "cell_type": "code",
   "execution_count": 1,
   "id": "28a94c36",
   "metadata": {},
   "outputs": [],
   "source": [
    "import numpy as np\n",
    "from numpy.random import seed\n",
    "from typing import List, Tuple\n",
    "from csv import reader\n",
    "import pandas as pd\n",
    "\n",
    "\n",
    "def getDataAsList(datafile: str) -> List[Tuple]:\n",
    "    with open(datafile, 'r', encoding='utf-8-sig') as fs:\n",
    "        csv_reader = reader(fs)\n",
    "        row_list = list(map(tuple, csv_reader))\n",
    "        return row_list[1:]    # ignore the header row\n",
    "    \n",
    "\n",
    "# convert the raw data into a simple duple of ( ucid, theta )\n",
    "def getCandidates() -> List[Tuple]:\n",
    "    candidates = getDataAsList('data/candidates.csv')\n",
    "    new_list = [(c[0], float(c[1])) for c in candidates]\n",
    "    return new_list;\n",
    "    \n",
    "\n",
    "# convert the raw data into a simple triple of ( uiid, a, b )\n",
    "def getItems() -> List[Tuple]:\n",
    "    items = getDataAsList('data/items.csv')\n",
    "    new_list = [(i[0], float(i[1]), float(i[2])) for i in items]\n",
    "    return new_list;"
   ]
  },
  {
   "cell_type": "code",
   "execution_count": 2,
   "id": "59f046ed",
   "metadata": {},
   "outputs": [],
   "source": [
    "items = getItems()\n",
    "candidates = getCandidates()"
   ]
  },
  {
   "cell_type": "markdown",
   "id": "d74ee5c5-643e-4ae2-b859-034c4c82dac7",
   "metadata": {},
   "source": [
    "## Item Response Generation\n",
    "\n",
    "The `getItemResponse()` function is used to generate a randomised response: correct (1) or incorrect (0) for a given candidate taking an item."
   ]
  },
  {
   "cell_type": "code",
   "execution_count": 3,
   "id": "d5905a1e-2d3a-45a7-8bc6-ffbf374d4121",
   "metadata": {},
   "outputs": [],
   "source": [
    "def getItemResponse(b: float, theta: float) -> str:\n",
    "    \"\"\"Gets a randomised item response for a given candidate\n",
    "    according to the 1PL model:\n",
    "\n",
    "    P(X=1) = e^(theta-b) / 1 + e^(theta-b)\n",
    "\n",
    "    :param b: the difficulty parameter for the item\n",
    "    :param theta: the latent ability of the candidate\n",
    "    :return: '0' = incorrect, '1' = correct\n",
    "    \"\"\"\n",
    "    rng = np.random.default_rng()\n",
    "    rv = rng.random()\n",
    "\n",
    "    p1 = np.exp(theta - b) / (1 + np.exp(theta - b))\n",
    "    p0 = 1 - p1\n",
    "\n",
    "    assert p0 <= 1.0\n",
    "    assert p1 <= 1.0\n",
    "\n",
    "    rLookup = {\n",
    "        '0': [0.00, p0],\n",
    "        '1': [p0, 1.00]\n",
    "    }\n",
    "    r = {k: v for (k, v) in rLookup.items() if v[0] <= rv <= v[1]}\n",
    "    rKey = list(r.keys())\n",
    "\n",
    "    assert rKey[0] == '1' or rKey[0] == '0'\n",
    "\n",
    "    return rKey[0]\n"
   ]
  },
  {
   "cell_type": "markdown",
   "id": "ad7f2e1a-da1b-4983-8700-748ca64c2368",
   "metadata": {},
   "source": [
    "We iterate through the data and genereate item responses for each candidate. Each candidate takes a test comprising each item; with a simulated response being generated for each."
   ]
  },
  {
   "cell_type": "code",
   "execution_count": 4,
   "id": "dbd9a993-f833-40b4-b84f-494fcf881ffd",
   "metadata": {},
   "outputs": [],
   "source": [
    "def GenerateRandomTests():\n",
    "    test_responses = [] # a list of lists\n",
    "\n",
    "    # generate a header row for the results\n",
    "    header = []\n",
    "    header.append('ucid')\n",
    "    for i in items:\n",
    "        header.append(i[0])\n",
    "\n",
    "    # now create the simulated test responses\n",
    "    for c in candidates:\n",
    "        test = []\n",
    "        test.append(c[0])\n",
    "        for i in items:\n",
    "            r = int(getItemResponse(i[2], c[1]))\n",
    "            test.append(r)\n",
    "        test_responses.append(test)\n",
    "        \n",
    "    return test_responses, header"
   ]
  },
  {
   "cell_type": "code",
   "execution_count": 8,
   "id": "e7a4a151-bea2-4fdf-9b1a-3cdcc0c425ae",
   "metadata": {},
   "outputs": [
    {
     "data": {
      "text/html": [
       "<div>\n",
       "<style scoped>\n",
       "    .dataframe tbody tr th:only-of-type {\n",
       "        vertical-align: middle;\n",
       "    }\n",
       "\n",
       "    .dataframe tbody tr th {\n",
       "        vertical-align: top;\n",
       "    }\n",
       "\n",
       "    .dataframe thead th {\n",
       "        text-align: right;\n",
       "    }\n",
       "</style>\n",
       "<table border=\"1\" class=\"dataframe\">\n",
       "  <thead>\n",
       "    <tr style=\"text-align: right;\">\n",
       "      <th></th>\n",
       "      <th>ucid</th>\n",
       "      <th>I001</th>\n",
       "      <th>I002</th>\n",
       "      <th>I003</th>\n",
       "      <th>I004</th>\n",
       "      <th>I005</th>\n",
       "      <th>I006</th>\n",
       "    </tr>\n",
       "  </thead>\n",
       "  <tbody>\n",
       "    <tr>\n",
       "      <th>0</th>\n",
       "      <td>C001</td>\n",
       "      <td>1</td>\n",
       "      <td>1</td>\n",
       "      <td>1</td>\n",
       "      <td>1</td>\n",
       "      <td>0</td>\n",
       "      <td>0</td>\n",
       "    </tr>\n",
       "    <tr>\n",
       "      <th>1</th>\n",
       "      <td>C002</td>\n",
       "      <td>1</td>\n",
       "      <td>1</td>\n",
       "      <td>0</td>\n",
       "      <td>1</td>\n",
       "      <td>0</td>\n",
       "      <td>0</td>\n",
       "    </tr>\n",
       "    <tr>\n",
       "      <th>2</th>\n",
       "      <td>C003</td>\n",
       "      <td>1</td>\n",
       "      <td>1</td>\n",
       "      <td>1</td>\n",
       "      <td>1</td>\n",
       "      <td>1</td>\n",
       "      <td>0</td>\n",
       "    </tr>\n",
       "    <tr>\n",
       "      <th>3</th>\n",
       "      <td>C004</td>\n",
       "      <td>1</td>\n",
       "      <td>1</td>\n",
       "      <td>1</td>\n",
       "      <td>1</td>\n",
       "      <td>1</td>\n",
       "      <td>0</td>\n",
       "    </tr>\n",
       "    <tr>\n",
       "      <th>4</th>\n",
       "      <td>C005</td>\n",
       "      <td>1</td>\n",
       "      <td>0</td>\n",
       "      <td>0</td>\n",
       "      <td>0</td>\n",
       "      <td>0</td>\n",
       "      <td>0</td>\n",
       "    </tr>\n",
       "  </tbody>\n",
       "</table>\n",
       "</div>"
      ],
      "text/plain": [
       "   ucid  I001  I002  I003  I004  I005  I006\n",
       "0  C001     1     1     1     1     0     0\n",
       "1  C002     1     1     0     1     0     0\n",
       "2  C003     1     1     1     1     1     0\n",
       "3  C004     1     1     1     1     1     0\n",
       "4  C005     1     0     0     0     0     0"
      ]
     },
     "execution_count": 8,
     "metadata": {},
     "output_type": "execute_result"
    }
   ],
   "source": [
    "t, header = GenerateRandomTests()\n",
    "\n",
    "df = pd.DataFrame(t, columns=header)\n",
    "\n",
    "(df)"
   ]
  },
  {
   "cell_type": "markdown",
   "id": "10f783d0",
   "metadata": {},
   "source": [
    "## Next Steps\n",
    "You can call the `GenerateRandomTests()` function as many times as you want to re-generate a test.\n",
    "Add items and candidates to the data files to generate larger tests.\n",
    "When you are happy with the results you can write out to a results CSV file like this:"
   ]
  },
  {
   "cell_type": "code",
   "execution_count": 6,
   "id": "bd8d38d3",
   "metadata": {},
   "outputs": [],
   "source": [
    "df.to_csv('data/results.csv', index=False)"
   ]
  },
  {
   "cell_type": "code",
   "execution_count": null,
   "id": "5263b86a-2ea2-4af3-80cf-80ff8659f434",
   "metadata": {},
   "outputs": [],
   "source": []
  }
 ],
 "metadata": {
  "kernelspec": {
   "display_name": "Python 3 (ipykernel)",
   "language": "python",
   "name": "python3"
  },
  "language_info": {
   "codemirror_mode": {
    "name": "ipython",
    "version": 3
   },
   "file_extension": ".py",
   "mimetype": "text/x-python",
   "name": "python",
   "nbconvert_exporter": "python",
   "pygments_lexer": "ipython3",
   "version": "3.8.12"
  },
  "toc-autonumbering": false,
  "toc-showtags": false
 },
 "nbformat": 4,
 "nbformat_minor": 5
}
