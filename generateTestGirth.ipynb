{
 "cells": [
  {
   "cell_type": "markdown",
   "id": "35b0e51f",
   "metadata": {},
   "source": [
    "# Test Generator (Girth)\n",
    "\n",
    "Read in the candidates and item data and generate a randomised test from them using the\n",
    "[Girth](https://eribean.github.io/girth/) package\n",
    "\n",
    "We assume that the 1PL model is used.\n",
    "\n",
    "$$\n",
    "Pr(X=1) = \\frac{exp(\\theta-b)}{1 + exp(\\theta-b)}\n",
    "$$\n",
    "\n",
    "The benefit of using the Girth library is that is it in addition to generating synthetic test data it can also be used to estimate the IRT parameters."
   ]
  },
  {
   "cell_type": "markdown",
   "id": "4d49bdfd",
   "metadata": {},
   "source": [
    "## Data Ingest\n",
    "\n",
    "There are two files in the `data` folder that we need: `items.csv` and `candidates.csv`."
   ]
  },
  {
   "cell_type": "code",
   "execution_count": 23,
   "id": "1295f8f7",
   "metadata": {},
   "outputs": [],
   "source": [
    "import numpy as np\n",
    "from numpy.random import seed\n",
    "from typing import List, Tuple\n",
    "from csv import reader\n",
    "import pandas as pd\n",
    "from girth.synthetic import create_synthetic_irt_dichotomous\n",
    "from girth import onepl_mml\n",
    "\n",
    "\n",
    "def getDataAsList(datafile: str) -> List[Tuple]:\n",
    "    \"\"\"Turn a CSV datafile into a list of tuples\n",
    "\n",
    "    :param datafile: the CSV file to load data from\n",
    "    :return: a list of rows (tuples)\n",
    "    \"\"\"\n",
    "    with open(datafile, 'r', encoding='utf-8-sig') as fs:\n",
    "        csv_reader = reader(fs)\n",
    "        row_list = list(map(tuple, csv_reader))\n",
    "        return row_list[1:]    # ignore the header row\n",
    "    \n",
    "\n",
    "# convert the raw data into a simple duple of ( ucid, theta )\n",
    "def getCandidates() -> List[Tuple]:\n",
    "    candidates = getDataAsList('data/candidates.csv')\n",
    "    new_list = [(c[0], float(c[1])) for c in candidates]\n",
    "    return new_list\n",
    "    \n",
    "\n",
    "# convert the raw data into a simple triple of ( uiid, a, b )\n",
    "def getItems() -> List[Tuple]:\n",
    "    items = getDataAsList('data/items.csv')\n",
    "    new_list = [(i[0], float(i[1]), float(i[2])) for i in items]\n",
    "    return new_list"
   ]
  },
  {
   "cell_type": "code",
   "execution_count": 24,
   "id": "73e66197",
   "metadata": {},
   "outputs": [],
   "source": [
    "items = getItems()\n",
    "candidates = getCandidates()"
   ]
  },
  {
   "cell_type": "markdown",
   "id": "5f6a8af1",
   "metadata": {},
   "source": [
    "## Test Generation\n",
    "We use the `create_synthetic_irt_dichotomous()` function from Girth to create the random test data. The `generateTest()` function reads data into the the numpy arrays that Girth requires, and then generates a randomised test before converting it into a pandas data frame for display."
   ]
  },
  {
   "cell_type": "code",
   "execution_count": 25,
   "id": "792757a2",
   "metadata": {},
   "outputs": [],
   "source": [
    "def convertTupleListToArray(tl: List[Tuple], arity: int):\n",
    "    l = [i[arity] for i in tl]\n",
    "    return np.array(l)\n",
    "\n",
    "\n",
    "def generateTest(itemList: List[Tuple], candidateList: List[Tuple]):\n",
    "    discrimination = convertTupleListToArray(items, 1)\n",
    "    difficulty = convertTupleListToArray(items, 2)\n",
    "    theta = convertTupleListToArray(candidates, 1)\n",
    "    t = create_synthetic_irt_dichotomous(difficulty, discrimination, theta)\n",
    "    return t\n",
    "\n",
    "\n",
    "def convertTestToDataframe(test, itemList: List[Tuple], candidateList: List[Tuple]):\n",
    "    header = []\n",
    "    for i in items:\n",
    "        header.append(i[0])\n",
    "    rownames = []\n",
    "    for i in candidates:\n",
    "        rownames.append(i[0])\n",
    "    df = pd.DataFrame(test.T, index=rownames, columns=header)\n",
    "    return df"
   ]
  },
  {
   "cell_type": "code",
   "execution_count": 47,
   "id": "3ed6e8d5",
   "metadata": {},
   "outputs": [],
   "source": [
    "synthetic_test = generateTest(items, candidates)\n",
    "testDf = convertTestToDataframe(synthetic_test, items, candidates)"
   ]
  },
  {
   "cell_type": "code",
   "execution_count": 48,
   "id": "7d6a4c70",
   "metadata": {},
   "outputs": [
    {
     "data": {
      "text/html": [
       "<div>\n",
       "<style scoped>\n",
       "    .dataframe tbody tr th:only-of-type {\n",
       "        vertical-align: middle;\n",
       "    }\n",
       "\n",
       "    .dataframe tbody tr th {\n",
       "        vertical-align: top;\n",
       "    }\n",
       "\n",
       "    .dataframe thead th {\n",
       "        text-align: right;\n",
       "    }\n",
       "</style>\n",
       "<table border=\"1\" class=\"dataframe\">\n",
       "  <thead>\n",
       "    <tr style=\"text-align: right;\">\n",
       "      <th></th>\n",
       "      <th>I001</th>\n",
       "      <th>I002</th>\n",
       "      <th>I003</th>\n",
       "      <th>I004</th>\n",
       "      <th>I005</th>\n",
       "      <th>I006</th>\n",
       "    </tr>\n",
       "  </thead>\n",
       "  <tbody>\n",
       "    <tr>\n",
       "      <th>C001</th>\n",
       "      <td>1</td>\n",
       "      <td>1</td>\n",
       "      <td>1</td>\n",
       "      <td>0</td>\n",
       "      <td>0</td>\n",
       "      <td>1</td>\n",
       "    </tr>\n",
       "    <tr>\n",
       "      <th>C002</th>\n",
       "      <td>0</td>\n",
       "      <td>0</td>\n",
       "      <td>0</td>\n",
       "      <td>0</td>\n",
       "      <td>0</td>\n",
       "      <td>0</td>\n",
       "    </tr>\n",
       "    <tr>\n",
       "      <th>C003</th>\n",
       "      <td>1</td>\n",
       "      <td>1</td>\n",
       "      <td>1</td>\n",
       "      <td>1</td>\n",
       "      <td>1</td>\n",
       "      <td>1</td>\n",
       "    </tr>\n",
       "    <tr>\n",
       "      <th>C004</th>\n",
       "      <td>1</td>\n",
       "      <td>1</td>\n",
       "      <td>1</td>\n",
       "      <td>1</td>\n",
       "      <td>0</td>\n",
       "      <td>0</td>\n",
       "    </tr>\n",
       "    <tr>\n",
       "      <th>C005</th>\n",
       "      <td>1</td>\n",
       "      <td>0</td>\n",
       "      <td>0</td>\n",
       "      <td>0</td>\n",
       "      <td>0</td>\n",
       "      <td>0</td>\n",
       "    </tr>\n",
       "  </tbody>\n",
       "</table>\n",
       "</div>"
      ],
      "text/plain": [
       "      I001  I002  I003  I004  I005  I006\n",
       "C001     1     1     1     0     0     1\n",
       "C002     0     0     0     0     0     0\n",
       "C003     1     1     1     1     1     1\n",
       "C004     1     1     1     1     0     0\n",
       "C005     1     0     0     0     0     0"
      ]
     },
     "execution_count": 48,
     "metadata": {},
     "output_type": "execute_result"
    }
   ],
   "source": [
    "(testDf)"
   ]
  },
  {
   "cell_type": "code",
   "execution_count": 49,
   "id": "8d709409",
   "metadata": {},
   "outputs": [],
   "source": [
    "# Solve for parameters\n",
    "estimates = onepl_mml(synthetic_test)\n",
    "\n",
    "# Unpack estimates\n",
    "a = estimates['Discrimination']\n",
    "bs = estimates['Difficulty']"
   ]
  },
  {
   "cell_type": "code",
   "execution_count": 50,
   "id": "18f5cb21",
   "metadata": {},
   "outputs": [
    {
     "data": {
      "text/plain": [
       "5.888360477462128"
      ]
     },
     "execution_count": 50,
     "metadata": {},
     "output_type": "execute_result"
    }
   ],
   "source": [
    "(a)"
   ]
  },
  {
   "cell_type": "code",
   "execution_count": 51,
   "id": "19ede4b2",
   "metadata": {},
   "outputs": [
    {
     "data": {
      "text/plain": [
       "array([-0.87995839, -0.26497006, -0.26497006,  0.26495167,  0.87993295,\n",
       "        0.26495167])"
      ]
     },
     "execution_count": 51,
     "metadata": {},
     "output_type": "execute_result"
    }
   ],
   "source": [
    "(bs)"
   ]
  }
 ],
 "metadata": {
  "kernelspec": {
   "display_name": "Python 3 (ipykernel)",
   "language": "python",
   "name": "python3"
  },
  "language_info": {
   "codemirror_mode": {
    "name": "ipython",
    "version": 3
   },
   "file_extension": ".py",
   "mimetype": "text/x-python",
   "name": "python",
   "nbconvert_exporter": "python",
   "pygments_lexer": "ipython3",
   "version": "3.9.7"
  }
 },
 "nbformat": 4,
 "nbformat_minor": 5
}
