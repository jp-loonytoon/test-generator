{
 "cells": [
  {
   "cell_type": "markdown",
   "id": "cf58fb92",
   "metadata": {},
   "source": [
    "# Test Analyser\n",
    "\n",
    "Read in the results data (from `data/results.csv` and analyse it. We use the [TAM](https://cran.r-project.org/web/packages/TAM/) package as it's capable of dealing with tests that have a mix of dichotomous and polytomous items. The goal here is to analyse a simulated test to ensure that it approximates a real world test.\n",
    "\n",
    "We assume that the 1PL model is used.\n",
    "\n",
    "$$\n",
    "Pr(X=1) = \\frac{exp(\\theta-b)}{1 + exp(\\theta-b)}\n",
    "$$\n",
    "\n",
    "We'll want to use the partial credit model (PCM) to analyse the data. Items are classed by the number of categories ($k$) that they contain; dichotomous items have a value of $k = 2, K = \\{ 0, 1 \\}$. The polytomous items have a varying number of categories.\n",
    "\n",
    "I've found [chapter 4 of Introduction to Rasch Analysis in R](https://bookdown.org/dkatz/Rasch_Biome/polytomous-items.html) to be useful in understanding how to analyse polytomous tests using TAM."
   ]
  },
  {
   "cell_type": "markdown",
   "id": "7f9066ab",
   "metadata": {},
   "source": [
    "## Data Ingest\n",
    "\n",
    "For this analysis we need the `results.csv` file from the `data` folder."
   ]
  },
  {
   "cell_type": "code",
   "execution_count": null,
   "id": "437233bf",
   "metadata": {},
   "outputs": [],
   "source": [
    "library(tidyverse)\n",
    "library(TAM)\n",
    "\n",
    "dfRaw <- read_csv(\"data/results.csv\")\n",
    "\n",
    "dfTest <- dfRaw %>%\n",
    "  dplyr::select(-systemname)\n",
    "\n",
    "numItems <- ncol(dfTest)\n",
    "numCandidates <- nrow(dfTest)"
   ]
  },
  {
   "cell_type": "code",
   "execution_count": null,
   "id": "5ae73500",
   "metadata": {},
   "outputs": [],
   "source": [
    "# show a selection of data from the test...\n",
    "head(dfRaw[c('systemname','A1L_7616_01#6789', 'A1L_20679_02#6790', 'A1L_5480_03#6791', 'S1', 'S2')])"
   ]
  },
  {
   "cell_type": "markdown",
   "id": "913e7435",
   "metadata": {},
   "source": [
    "## Summary Stats\n",
    "We'll use the TAM package to get some summary info for the dataset. TAM will automatically run the PCM when our data is polytomous. We need to remove the systemname (candidate ID) column first."
   ]
  },
  {
   "cell_type": "code",
   "execution_count": null,
   "id": "ddd1fc5c",
   "metadata": {},
   "outputs": [],
   "source": [
    "dfTestResponses <- dfRaw[-c(1)]"
   ]
  },
  {
   "cell_type": "code",
   "execution_count": null,
   "id": "a839e24f",
   "metadata": {},
   "outputs": [],
   "source": [
    "pcm <- tam(dfTestResponses)"
   ]
  },
  {
   "cell_type": "code",
   "execution_count": null,
   "id": "91fd70e1",
   "metadata": {},
   "outputs": [],
   "source": [
    "summary(pcm)"
   ]
  },
  {
   "cell_type": "markdown",
   "id": "79074574",
   "metadata": {},
   "source": [
    "## Item Difficulties\n",
    "We can extract the item difficulties and use them to update the item bank if we wish."
   ]
  },
  {
   "cell_type": "code",
   "execution_count": null,
   "id": "5d550b3d",
   "metadata": {},
   "outputs": [],
   "source": [
    "dfItemUpdates <- pcm$item"
   ]
  },
  {
   "cell_type": "code",
   "execution_count": null,
   "id": "47a92e0d",
   "metadata": {},
   "outputs": [],
   "source": [
    "head(dfItemUpdates[, c('item', 'N', 'M', 'xsi.item')])"
   ]
  },
  {
   "cell_type": "markdown",
   "id": "91168a57",
   "metadata": {},
   "source": [
    "Here, `N` is the number of responses, `M` is the ratio of correct responses and `xsi.item` is the item difficulty (or $b$ parameter)."
   ]
  },
  {
   "cell_type": "code",
   "execution_count": null,
   "id": "e2a778fc",
   "metadata": {},
   "outputs": [],
   "source": [
    "# read in items.csv and create a joined dataset using the new\n",
    "# item difficulties calculated from the test response analysis\n",
    "dfItems <- read_csv(\"data/items.csv\") %>%\n",
    "  select(-c(b, se)) %>%\n",
    "  left_join(dfItemUpdates, by = c(\"UIID\" = \"item\")) %>%\n",
    "  select(c(UIID, a, b = xsi.item, rating, k))\n",
    "\n",
    "# then write out to a new items file\n",
    "write_csv(dfItems, 'data/updated-items.csv')"
   ]
  },
  {
   "cell_type": "markdown",
   "id": "1e47d307",
   "metadata": {},
   "source": [
    "### Polytomous Item Thresholds\n",
    "Under the GRM or PCM polytomous IRT models, items are given a difficulty however, a set of thresholds $K$ is also required in order to fully describe the item. There must be $K-1$ thresholds (with threshold $k_0$ not being required to be supplied)."
   ]
  },
  {
   "cell_type": "code",
   "execution_count": null,
   "id": "79b898b2",
   "metadata": {},
   "outputs": [],
   "source": [
    "dfThresholds <- data.frame(tam.threshold(pcm))"
   ]
  },
  {
   "cell_type": "code",
   "execution_count": null,
   "id": "d7cf12c9",
   "metadata": {},
   "outputs": [],
   "source": [
    "(dfThresholds)"
   ]
  },
  {
   "cell_type": "code",
   "execution_count": null,
   "id": "2b5ce387",
   "metadata": {},
   "outputs": [],
   "source": [
    "write_csv(dfThresholds, 'data/item-thresholds.csv')"
   ]
  },
  {
   "cell_type": "markdown",
   "id": "7590aaa3",
   "metadata": {},
   "source": [
    "## Item Fit\n",
    "We can calulcate the infit and outfit statistics. For polytomous items, the statistics are produced for each level."
   ]
  },
  {
   "cell_type": "code",
   "execution_count": null,
   "id": "1063f59c",
   "metadata": {},
   "outputs": [],
   "source": [
    "Fit.poly <- tam.fit(pcm)"
   ]
  },
  {
   "cell_type": "code",
   "execution_count": null,
   "id": "3b0f58b0",
   "metadata": {},
   "outputs": [],
   "source": [
    "head(Fit.poly$itemfit)"
   ]
  },
  {
   "cell_type": "markdown",
   "id": "5703c00d",
   "metadata": {},
   "source": [
    "## Item Information Functions\n",
    "If we're interested we can get Item Characteristic Curves (ICCs) and Item Information Functions (IIFs) for the polytomous item thresholds. Here we'll show the ICCs and IIFs for items S1 (item 113) and W1 (item 123)."
   ]
  },
  {
   "cell_type": "code",
   "execution_count": null,
   "id": "267302e4",
   "metadata": {},
   "outputs": [],
   "source": [
    "plot(pcm, items=113, type='expected', export=FALSE)"
   ]
  },
  {
   "cell_type": "code",
   "execution_count": null,
   "id": "6f13b1d8",
   "metadata": {},
   "outputs": [],
   "source": [
    "plot(pcm, items=113, type='items', export=FALSE)"
   ]
  },
  {
   "cell_type": "code",
   "execution_count": null,
   "id": "dcaa7136",
   "metadata": {},
   "outputs": [],
   "source": [
    "plot(pcm, items=123, type='expected', export=FALSE)"
   ]
  },
  {
   "cell_type": "code",
   "execution_count": null,
   "id": "68765c8f",
   "metadata": {},
   "outputs": [],
   "source": [
    "plot(pcm, items=123, type='items', export=FALSE)"
   ]
  },
  {
   "cell_type": "code",
   "execution_count": null,
   "id": "e99f3b75",
   "metadata": {},
   "outputs": [],
   "source": []
  }
 ],
 "metadata": {
  "kernelspec": {
   "display_name": "R",
   "language": "R",
   "name": "ir"
  },
  "language_info": {
   "codemirror_mode": "r",
   "file_extension": ".r",
   "mimetype": "text/x-r-source",
   "name": "R",
   "pygments_lexer": "r",
   "version": "4.1.0"
  }
 },
 "nbformat": 4,
 "nbformat_minor": 5
}
